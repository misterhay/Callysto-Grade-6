{
 "cells": [
  {
   "cell_type": "markdown",
   "metadata": {},
   "source": [
    "![logo](https://callysto.ca/wp-content/uploads/2018/06/Callysto_Notebook-Banner_Top_06.06.18.jpg)"
   ]
  },
  {
   "cell_type": "markdown",
   "metadata": {},
   "source": [
    "## Finding Factors\n",
    "**Factors** of a number can be multiplied to form that number.\n",
    "\n",
    "For example, the factors of 6 are 1, 2, 3, and 6 ($1 \\times 6 = 6$ and $ 2 \\times 3 = 6$).\n",
    "\n",
    "A number is **prime** if it has just two factors (1 and itself). A number with more than two factors is a **composite** number.\n",
    "\n",
    "Let's write a little script to find the factors of the number 6. \n",
    "\n",
    "As an example, let's figure of the factors of 6. We'll divide 6 by each number from 1 to 6, if the remainder is 0 then 6 is divisible by that number. Anything in Python code after a # sign is ignored by the program, these are comments so we can tell other people what the code is for."
   ]
  },
  {
   "cell_type": "code",
   "execution_count": null,
   "metadata": {},
   "outputs": [],
   "source": [
    "number = 6\n",
    "factors = []                              # create an empty list where we will store the factors\n",
    "for factor in range(1, number):           # start a loop at 1 and go until we reach the number we stored at the beginning\n",
    "    if number % factor == 0:              # if the remainder of that division is 0 then...\n",
    "        factors.append(factor)            # append the factor we just found to our list of factors\n",
    "factors.append(number)                    # we know that a number is always divisible by itself, so append that\n",
    "print(factors)                            # print the list of factors"
   ]
  },
  {
   "cell_type": "markdown",
   "metadata": {},
   "source": [
    "We found the factors of 6, which we knew already, so let's rewrite the code to ask for a number then find its factors."
   ]
  },
  {
   "cell_type": "code",
   "execution_count": null,
   "metadata": {},
   "outputs": [],
   "source": [
    "number = int(input('What number to do you want to find factors of? '))\n",
    "factors = []\n",
    "for factor in range(1, number):\n",
    "    if number % factor == 0:\n",
    "        factors.append(factor)\n",
    "factors.append(number)\n",
    "print('The factors of ',number,'are',factors)"
   ]
  },
  {
   "cell_type": "markdown",
   "metadata": {},
   "source": [
    "If we want to see each factor as it is found, which might be useful for numbers with a lot of factors, we can add a print statement inside the loop."
   ]
  },
  {
   "cell_type": "code",
   "execution_count": null,
   "metadata": {},
   "outputs": [],
   "source": [
    "number = int(input('What number to do you want to find factors of? '))\n",
    "factors = []\n",
    "for factor in range(1, number):\n",
    "    if number % factor == 0:\n",
    "        print(factor)\n",
    "        factors.append(factor)\n",
    "factors.append(number)\n",
    "print('The factors of ',number,'are',factors)"
   ]
  },
  {
   "cell_type": "markdown",
   "metadata": {},
   "source": [
    "Of course we wanted to find factors of really large numbers then we could use some shortcuts to make it easier, but this should be good enough for now. If you find your program is running too long (It says In[*]: but doesn't seem to be doing anything), you can hold the ctrl key and press c to cancel it.\n",
    "\n",
    "Let's add a little more code to check if the number is prime or composite (remember that a prime number only has two factors)."
   ]
  },
  {
   "cell_type": "code",
   "execution_count": null,
   "metadata": {},
   "outputs": [],
   "source": [
    "number = int(input('What number to do you want to find factors of? '))\n",
    "factors = []\n",
    "for factor in range(1, number):\n",
    "    if number % factor == 0:\n",
    "        print(factor)\n",
    "        factors.append(factor)\n",
    "factors.append(number)\n",
    "print('The factors of ',number,'are',factors)\n",
    "\n",
    "if len(factors) == 2: # if there are only two factors in the list\n",
    "    print(number, 'is a prime number.')\n",
    "else:\n",
    "    print(number, 'is a composite number.')"
   ]
  },
  {
   "cell_type": "markdown",
   "metadata": {},
   "source": [
    "## Practice Problem 1\n",
    "Which two single-digit numbers have four factors?"
   ]
  },
  {
   "cell_type": "code",
   "execution_count": null,
   "metadata": {},
   "outputs": [],
   "source": []
  },
  {
   "cell_type": "markdown",
   "metadata": {},
   "source": [
    "## Practice Problem 2\n",
    "What is the smallest number that has more than four factors?"
   ]
  },
  {
   "cell_type": "code",
   "execution_count": null,
   "metadata": {},
   "outputs": [],
   "source": []
  },
  {
   "cell_type": "markdown",
   "metadata": {},
   "source": [
    "## Practice Problem 3\n",
    "Is 93 a prime or composite number?"
   ]
  },
  {
   "cell_type": "code",
   "execution_count": null,
   "metadata": {},
   "outputs": [],
   "source": []
  }
 ],
 "metadata": {
  "kernelspec": {
   "display_name": "Python 3",
   "language": "python",
   "name": "python3"
  },
  "language_info": {
   "codemirror_mode": {
    "name": "ipython",
    "version": 3
   },
   "file_extension": ".py",
   "mimetype": "text/x-python",
   "name": "python",
   "nbconvert_exporter": "python",
   "pygments_lexer": "ipython3",
   "version": "3.7.3"
  }
 },
 "nbformat": 4,
 "nbformat_minor": 2
}
