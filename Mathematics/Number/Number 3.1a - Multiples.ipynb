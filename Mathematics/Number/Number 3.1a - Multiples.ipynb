{
 "cells": [
  {
   "cell_type": "markdown",
   "metadata": {},
   "source": [
    "![logo](https://callysto.ca/wp-content/uploads/2018/06/Callysto_Notebook-Banner_Top_06.06.18.jpg)"
   ]
  },
  {
   "cell_type": "markdown",
   "metadata": {},
   "source": [
    "## Finding Multiples\n",
    "Multiples are what you get when you multiply a number by integers.\n",
    "\n",
    "For example, the first five multiples of 3 are 3, 6, 9, 12, and 15.\n",
    "\n",
    "Let's write some Python code to find multiples of a number."
   ]
  },
  {
   "cell_type": "code",
   "execution_count": null,
   "metadata": {},
   "outputs": [],
   "source": [
    "number = 3\n",
    "howManyMultiples = 5\n",
    "for n in range(1, howManyMultiples + 1): # we need the +1 because range doesn't include the last integer\n",
    "    print(number * n)"
   ]
  },
  {
   "cell_type": "markdown",
   "metadata": {},
   "source": [
    "That code printed the first five multiples of 3, but how about some code that will ask for a number and how many multiples."
   ]
  },
  {
   "cell_type": "code",
   "execution_count": null,
   "metadata": {},
   "outputs": [],
   "source": [
    "number = int(input('Give me a number: '))\n",
    "howManyMultiples = int(input('How many multiples of that number do you want? '))\n",
    "print('The first',howManyMultiples,'of',number,'are:')\n",
    "for n in range(1, howManyMultiples+1):\n",
    "    print(number * n)"
   ]
  },
  {
   "cell_type": "markdown",
   "metadata": {},
   "source": [
    "You now have some code that can print out multiples of a number. Use this code to answer the a few questions.\n",
    "\n",
    "## Practice Problem 1\n",
    "Find the first 7 multiples of the number 9."
   ]
  },
  {
   "cell_type": "code",
   "execution_count": null,
   "metadata": {},
   "outputs": [],
   "source": []
  },
  {
   "cell_type": "markdown",
   "metadata": {},
   "source": [
    "## Practice Problem 2\n",
    "If every 9th caller to a radio station wins a prize, how many of the first 30 callers will win a prize?"
   ]
  },
  {
   "cell_type": "code",
   "execution_count": null,
   "metadata": {},
   "outputs": [],
   "source": []
  },
  {
   "cell_type": "markdown",
   "metadata": {},
   "source": [
    "We can also write some code to find the **lowest common multiple** of two numbers."
   ]
  },
  {
   "cell_type": "code",
   "execution_count": null,
   "metadata": {},
   "outputs": [],
   "source": [
    "number1 = int(input('What is the first number? '))\n",
    "number2 = int(input('What is the second number? '))\n",
    "# figure out which of the two numbers is larger and store it in the variable lcm\n",
    "if number2 > number1:\n",
    "    lcm = number2\n",
    "else:\n",
    "    lcm = number1\n",
    "\n",
    "while(True): # start an infinite loop\n",
    "    if lcm % number1 == 0 and lcm % number2 == 0: # if the remainder of dividing lcm by number1 and number2 is 0\n",
    "        print('The lowest common multiple is', lcm) # we have found the LCM, so print it\n",
    "        break # stop the loop\n",
    "    else:\n",
    "        lcm += 1 # add one to the lcm and try again"
   ]
  },
  {
   "cell_type": "markdown",
   "metadata": {},
   "source": [
    "Use the above code to solve the a few problems.\n",
    "\n",
    "## Practice Problem 3\n",
    "If hamburger buns are sold in packages (multiples) of 12 and hamburger patties are sold in packages of 8, how many hamburgers would you need to make in order to not have any buns or patties left over?"
   ]
  },
  {
   "cell_type": "code",
   "execution_count": null,
   "metadata": {},
   "outputs": [],
   "source": []
  },
  {
   "cell_type": "markdown",
   "metadata": {},
   "source": [
    "## Practice Problem 4\n",
    "Starting at the beginning of a month, if I go to the grocery store every seven days and my sister goes every four days, on which day of the month will we both go to the grocery store on the same day?"
   ]
  },
  {
   "cell_type": "code",
   "execution_count": null,
   "metadata": {},
   "outputs": [],
   "source": []
  },
  {
   "cell_type": "markdown",
   "metadata": {},
   "source": [
    "In this notebook we learned about **multiples**, numbers that we can divide by another number with no remainder, and finding the **lowest common multiple** of two numbers."
   ]
  }
 ],
 "metadata": {
  "kernelspec": {
   "display_name": "Python 3",
   "language": "python",
   "name": "python3"
  },
  "language_info": {
   "codemirror_mode": {
    "name": "ipython",
    "version": 3
   },
   "file_extension": ".py",
   "mimetype": "text/x-python",
   "name": "python",
   "nbconvert_exporter": "python",
   "pygments_lexer": "ipython3",
   "version": "3.6.5"
  }
 },
 "nbformat": 4,
 "nbformat_minor": 2
}
