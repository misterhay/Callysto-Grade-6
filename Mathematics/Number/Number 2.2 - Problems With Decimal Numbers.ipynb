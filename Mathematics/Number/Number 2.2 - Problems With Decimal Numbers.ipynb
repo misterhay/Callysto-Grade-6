{
 "cells": [
  {
   "cell_type": "markdown",
   "metadata": {},
   "source": [
    "![logo](https://callysto.ca/wp-content/uploads/2018/06/Callysto_Notebook-Banner_Top_06.06.18.jpg)"
   ]
  },
  {
   "cell_type": "markdown",
   "metadata": {},
   "source": [
    "# Number - Solve Problems With Decimal Numbers\n",
    "\n",
    "In Python there are four different types of numbers, but we'll only be using two of them:\n",
    "\n",
    "**int** means integer, a positive or negative whole number e.g. 97 or -3\n",
    "\n",
    "**float** is a floating point number, a number that has a decimal point e.g. 2.7 or -55.81\n",
    "\n",
    "Let's use Python to solve some problems with decimal (float) numbers."
   ]
  },
  {
   "cell_type": "markdown",
   "metadata": {},
   "source": [
    "If there are 30 cupcakes divided equally among 24 students in a class, how many cupcakes would each student get?"
   ]
  },
  {
   "cell_type": "code",
   "execution_count": 24,
   "metadata": {},
   "outputs": [
    {
     "data": {
      "text/plain": [
       "1.25"
      ]
     },
     "execution_count": 24,
     "metadata": {},
     "output_type": "execute_result"
    }
   ],
   "source": [
    "30/24"
   ]
  },
  {
   "cell_type": "markdown",
   "metadata": {},
   "source": [
    "Each student would get 1.25 cupcakes. That is 1 and 25 hundredths cupcakes."
   ]
  },
  {
   "cell_type": "markdown",
   "metadata": {},
   "source": [
    "If a tennis ball has a mass of 58.5 grams then what is the mass, in grams, of 3 tennis balls?"
   ]
  },
  {
   "cell_type": "code",
   "execution_count": 25,
   "metadata": {},
   "outputs": [
    {
     "data": {
      "text/plain": [
       "175.5"
      ]
     },
     "execution_count": 25,
     "metadata": {},
     "output_type": "execute_result"
    }
   ],
   "source": [
    "58.5*3"
   ]
  },
  {
   "cell_type": "markdown",
   "metadata": {},
   "source": [
    "## Practice Problem 1\n",
    "If you had 11 dollars and 25 cents but you spent 3 dollars, then how much do you have left?"
   ]
  },
  {
   "cell_type": "code",
   "execution_count": null,
   "metadata": {},
   "outputs": [],
   "source": []
  },
  {
   "cell_type": "markdown",
   "metadata": {},
   "source": [
    "## Practice Problem 2\n",
    "If you have \\$5 to split evenly amoung 3 people, about how much will each person get?"
   ]
  },
  {
   "cell_type": "code",
   "execution_count": null,
   "metadata": {},
   "outputs": [],
   "source": []
  },
  {
   "cell_type": "markdown",
   "metadata": {},
   "source": [
    "We can also round decimals using a function called *round* in a Python library called *decimal*. The following code will print the quotient of five divided by three, then print the same answer rounded to two decimal places."
   ]
  },
  {
   "cell_type": "code",
   "execution_count": 26,
   "metadata": {},
   "outputs": [
    {
     "name": "stdout",
     "output_type": "stream",
     "text": [
      "1.6666666666666667406815349750104360282421112060546875\n",
      "1.67\n"
     ]
    }
   ],
   "source": [
    "from decimal import Decimal\n",
    "answer = Decimal(5/3)\n",
    "print(answer)\n",
    "print(round(answer,2))"
   ]
  },
  {
   "cell_type": "markdown",
   "metadata": {},
   "source": [
    "## Practice Problem 3\n",
    "What is 17 divided by 6, rounded to the nearest thousandth?"
   ]
  },
  {
   "cell_type": "code",
   "execution_count": null,
   "metadata": {},
   "outputs": [],
   "source": []
  }
 ],
 "metadata": {
  "kernelspec": {
   "display_name": "Python 3",
   "language": "python",
   "name": "python3"
  },
  "language_info": {
   "codemirror_mode": {
    "name": "ipython",
    "version": 3
   },
   "file_extension": ".py",
   "mimetype": "text/x-python",
   "name": "python",
   "nbconvert_exporter": "python",
   "pygments_lexer": "ipython3",
   "version": "3.6.5"
  }
 },
 "nbformat": 4,
 "nbformat_minor": 2
}
