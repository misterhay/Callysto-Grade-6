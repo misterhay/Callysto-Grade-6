{
 "cells": [
  {
   "cell_type": "markdown",
   "metadata": {},
   "source": [
    "![logo](https://callysto.ca/wp-content/uploads/2018/06/Callysto_Notebook-Banner_Top_06.06.18.jpg)"
   ]
  },
  {
   "cell_type": "code",
   "execution_count": 1,
   "metadata": {},
   "outputs": [
    {
     "data": {
      "text/html": [
       "\n",
       "<script>\n",
       "  function code_toggle() {\n",
       "    if (code_shown){\n",
       "      $('div.input').hide('500');\n",
       "      $('#toggleButton').val('Show Code')\n",
       "    } else {\n",
       "      $('div.input').show('500');\n",
       "      $('#toggleButton').val('Hide Code')\n",
       "    }\n",
       "    code_shown = !code_shown\n",
       "  }\n",
       "\n",
       "  $( document ).ready(function(){\n",
       "    code_shown=false;\n",
       "    $('div.input').hide()\n",
       "  });\n",
       "</script>\n",
       "<form action=\"javascript:code_toggle()\"><input type=\"submit\" id=\"toggleButton\" value=\"Show Code\"></form>"
      ],
      "text/plain": [
       "<IPython.core.display.HTML object>"
      ]
     },
     "metadata": {},
     "output_type": "display_data"
    }
   ],
   "source": [
    "%%html\n",
    "\n",
    "<script>\n",
    "  function code_toggle() {\n",
    "    if (code_shown){\n",
    "      $('div.input').hide('500');\n",
    "      $('#toggleButton').val('Show Code')\n",
    "    } else {\n",
    "      $('div.input').show('500');\n",
    "      $('#toggleButton').val('Hide Code')\n",
    "    }\n",
    "    code_shown = !code_shown\n",
    "  }\n",
    "\n",
    "  $( document ).ready(function(){\n",
    "    code_shown=false;\n",
    "    $('div.input').hide()\n",
    "  });\n",
    "</script>\n",
    "<form action=\"javascript:code_toggle()\"><input type=\"submit\" id=\"toggleButton\" value=\"Show Code\"></form>"
   ]
  },
  {
   "cell_type": "code",
   "execution_count": 2,
   "metadata": {},
   "outputs": [],
   "source": [
    "import ipywidgets as widgets\n",
    "import IPython"
   ]
  },
  {
   "cell_type": "markdown",
   "metadata": {},
   "source": [
    "# Number - Place Value\n",
    "**Place value** is how much a digit is worth based on where it is in a number.\n",
    "\n",
    "For example, the number 2 345 678 has a 2 in the millions place and a 7 in the tens place.\n",
    "\n",
    "| Millions | Hundred Thousands | Ten Thousands | Thousands | Hundreds | Tens | Ones |\n",
    "|:--------:|:-----------------:|:-------------:|:---------:|:--------:|:----:|:----:|\n",
    "|     2    |         3         |       4       |     5     |     6    |   7  |   8  |\n",
    "\n",
    "**Period** is a group of three place values.\n",
    "\n",
    "In the example above, the thousands period contains the numbers 345.\n",
    "\n",
    "A **million** is a thousand thousand: 1 000 000\n",
    "\n",
    "A **billion** is a thousand million: 1 000 000 000\n",
    "\n",
    "A **trillion** is a thousand billion: 1 000 000 000 000\n",
    "\n",
    "A **quadrillion** is a thousand trillion: 1 000 000 000 000 000\n",
    "\n",
    "**Standard Form** is the usual way we write numbers (e.g. 5 608)\n",
    "\n",
    "**Expanded form** is when we write each place value as a number and have a plus sign between them (e.g. 5 000 + 600 + 8).\n",
    "\n"
   ]
  },
  {
   "cell_type": "markdown",
   "metadata": {},
   "source": [
    "## Practice Question 1\n",
    "Which digit is in the ten thousands place in the number 2 345 678?"
   ]
  },
  {
   "cell_type": "code",
   "execution_count": 3,
   "metadata": {},
   "outputs": [
    {
     "data": {
      "application/vnd.jupyter.widget-view+json": {
       "model_id": "c32b04726d2b4fc2bbc287cc8ed2a056",
       "version_major": 2,
       "version_minor": 0
      },
      "text/html": [
       "<p>Failed to display Jupyter Widget of type <code>interactive</code>.</p>\n",
       "<p>\n",
       "  If you're reading this message in the Jupyter Notebook or JupyterLab Notebook, it may mean\n",
       "  that the widgets JavaScript is still loading. If this message persists, it\n",
       "  likely means that the widgets JavaScript library is either not installed or\n",
       "  not enabled. See the <a href=\"https://ipywidgets.readthedocs.io/en/stable/user_install.html\">Jupyter\n",
       "  Widgets Documentation</a> for setup instructions.\n",
       "</p>\n",
       "<p>\n",
       "  If you're reading this message in another frontend (for example, a static\n",
       "  rendering on GitHub or <a href=\"https://nbviewer.jupyter.org/\">NBViewer</a>),\n",
       "  it may mean that your frontend doesn't currently support widgets.\n",
       "</p>\n"
      ],
      "text/plain": [
       "interactive(children=(RadioButtons(description='A.', options=('Choose an answer', '2', '3', '4', '5', '6', '7', '8'), value='Choose an answer'), Output()), _dom_classes=('widget-interact',))"
      ]
     },
     "metadata": {},
     "output_type": "display_data"
    }
   ],
   "source": [
    "a = widgets.RadioButtons(description='A.',options=['Choose an answer','2','3','4', '5', '6', '7', '8'], disabled=False)\n",
    "def f(a=''):\n",
    "    if a == 'Choose an answer':\n",
    "        pass\n",
    "    elif a == '4':\n",
    "        print(\"That's right, excellent work. The correct answer is \" + str(a))\n",
    "    else:\n",
    "        print(\"Sorry, try again\")\n",
    "    return a\n",
    "display(widgets.interactive(f, a=a))"
   ]
  },
  {
   "cell_type": "markdown",
   "metadata": {},
   "source": [
    "## Practice Question 2\n",
    "In the number 2 345 678, which place value has a 6?"
   ]
  },
  {
   "cell_type": "code",
   "execution_count": 4,
   "metadata": {},
   "outputs": [
    {
     "data": {
      "application/vnd.jupyter.widget-view+json": {
       "model_id": "9fbacbbb12234d89b0e781624f881876",
       "version_major": 2,
       "version_minor": 0
      },
      "text/html": [
       "<p>Failed to display Jupyter Widget of type <code>interactive</code>.</p>\n",
       "<p>\n",
       "  If you're reading this message in the Jupyter Notebook or JupyterLab Notebook, it may mean\n",
       "  that the widgets JavaScript is still loading. If this message persists, it\n",
       "  likely means that the widgets JavaScript library is either not installed or\n",
       "  not enabled. See the <a href=\"https://ipywidgets.readthedocs.io/en/stable/user_install.html\">Jupyter\n",
       "  Widgets Documentation</a> for setup instructions.\n",
       "</p>\n",
       "<p>\n",
       "  If you're reading this message in another frontend (for example, a static\n",
       "  rendering on GitHub or <a href=\"https://nbviewer.jupyter.org/\">NBViewer</a>),\n",
       "  it may mean that your frontend doesn't currently support widgets.\n",
       "</p>\n"
      ],
      "text/plain": [
       "interactive(children=(RadioButtons(description='A.', options=('Choose an answer', 'ones', 'tens', 'hundreds', 'thousands', 'ten thousands', 'hundred thousands', 'millions'), value='Choose an answer'), Output()), _dom_classes=('widget-interact',))"
      ]
     },
     "metadata": {},
     "output_type": "display_data"
    }
   ],
   "source": [
    "a = widgets.RadioButtons(description='A.',options=['Choose an answer','ones','tens','hundreds', 'thousands', 'ten thousands', 'hundred thousands', 'millions'], disabled=False)\n",
    "def f(a=''):\n",
    "    if a == 'Choose an answer':\n",
    "        pass\n",
    "    elif a == 'hundreds':\n",
    "        print(\"That's right, excellent work. There is a 6 in the \" + a + \" place.\")\n",
    "    else:\n",
    "        print(\"Sorry, try again\")\n",
    "    return a\n",
    "display(widgets.interactive(f, a=a))"
   ]
  },
  {
   "cell_type": "markdown",
   "metadata": {},
   "source": [
    "## Practice Question 3\n",
    "Write this number in standard form: 2 000 000 + 10 000 + 6 000 + 700 + 1"
   ]
  },
  {
   "cell_type": "code",
   "execution_count": 5,
   "metadata": {},
   "outputs": [
    {
     "data": {
      "application/vnd.jupyter.widget-view+json": {
       "model_id": "0c72ceebc59c4a399a8eb665c1b033fa",
       "version_major": 2,
       "version_minor": 0
      },
      "text/html": [
       "<p>Failed to display Jupyter Widget of type <code>interactive</code>.</p>\n",
       "<p>\n",
       "  If you're reading this message in the Jupyter Notebook or JupyterLab Notebook, it may mean\n",
       "  that the widgets JavaScript is still loading. If this message persists, it\n",
       "  likely means that the widgets JavaScript library is either not installed or\n",
       "  not enabled. See the <a href=\"https://ipywidgets.readthedocs.io/en/stable/user_install.html\">Jupyter\n",
       "  Widgets Documentation</a> for setup instructions.\n",
       "</p>\n",
       "<p>\n",
       "  If you're reading this message in another frontend (for example, a static\n",
       "  rendering on GitHub or <a href=\"https://nbviewer.jupyter.org/\">NBViewer</a>),\n",
       "  it may mean that your frontend doesn't currently support widgets.\n",
       "</p>\n"
      ],
      "text/plain": [
       "interactive(children=(RadioButtons(description='A.', options=('Choose an answer', '21 671', '201 671', '2 0167 01'), value='Choose an answer'), Output()), _dom_classes=('widget-interact',))"
      ]
     },
     "metadata": {},
     "output_type": "display_data"
    }
   ],
   "source": [
    "a = widgets.RadioButtons(description='A.',options=['Choose an answer','21 671','201 671','2 0167 01'], disabled=False)\n",
    "def f(a=''):\n",
    "    if a == 'Choose an answer':\n",
    "        pass\n",
    "    elif a == '2 0167 01':\n",
    "        print(\"That's right, excellent work. The correct answer is \" + str(a))\n",
    "    else:\n",
    "        print(\"Sorry, try again\")\n",
    "    return a\n",
    "display(widgets.interactive(f, a=a))"
   ]
  },
  {
   "cell_type": "markdown",
   "metadata": {},
   "source": [
    "## Practice Question 4\n",
    "Write this number in expanded form: 56 031"
   ]
  },
  {
   "cell_type": "code",
   "execution_count": 6,
   "metadata": {},
   "outputs": [
    {
     "data": {
      "application/vnd.jupyter.widget-view+json": {
       "model_id": "10f3cb4dc4114b0495c0a9c6400728c3",
       "version_major": 2,
       "version_minor": 0
      },
      "text/html": [
       "<p>Failed to display Jupyter Widget of type <code>interactive</code>.</p>\n",
       "<p>\n",
       "  If you're reading this message in the Jupyter Notebook or JupyterLab Notebook, it may mean\n",
       "  that the widgets JavaScript is still loading. If this message persists, it\n",
       "  likely means that the widgets JavaScript library is either not installed or\n",
       "  not enabled. See the <a href=\"https://ipywidgets.readthedocs.io/en/stable/user_install.html\">Jupyter\n",
       "  Widgets Documentation</a> for setup instructions.\n",
       "</p>\n",
       "<p>\n",
       "  If you're reading this message in another frontend (for example, a static\n",
       "  rendering on GitHub or <a href=\"https://nbviewer.jupyter.org/\">NBViewer</a>),\n",
       "  it may mean that your frontend doesn't currently support widgets.\n",
       "</p>\n"
      ],
      "text/plain": [
       "interactive(children=(RadioButtons(description='A.', options=('Choose an answer', '50 000 + 6 000 + 30 + 1', '50 000 + 6 000 + 000 + 30 + 1', '50 000 + 6 000 + 300 + 1'), value='Choose an answer'), Output()), _dom_classes=('widget-interact',))"
      ]
     },
     "metadata": {},
     "output_type": "display_data"
    }
   ],
   "source": [
    "a = widgets.RadioButtons(description='A.',options=['Choose an answer','50 000 + 6 000 + 30 + 1','50 000 + 6 000 + 000 + 30 + 1','50 000 + 6 000 + 300 + 1'], disabled=False)\n",
    "def f(a=''):\n",
    "    if a == 'Choose an answer':\n",
    "        pass\n",
    "    elif a == '50 000 + 6 000 + 30 + 1':\n",
    "        print(\"That's right, excellent work. The correct answer is \" + str(a))\n",
    "    else:\n",
    "        print(\"Sorry, try again\")\n",
    "    return a\n",
    "display(widgets.interactive(f, a=a))"
   ]
  },
  {
   "cell_type": "markdown",
   "metadata": {},
   "source": [
    "## Practice Question 5\n",
    "According to [Statistics Canada](https://www12.statcan.gc.ca/census-recensement/2016/dp-pd/prof/details/page.cfm?Lang=E&Geo1=PR&Code1=01&Geo2=&Code2=&Data=Count&SearchText=Canada&SearchType=Begins&SearchPR=01&B1=All&TABID=1), the population of Canada in 2011 was **33 476 688** and in 2016 was **35 151 728**. Which is the largest place value that increased?"
   ]
  },
  {
   "cell_type": "code",
   "execution_count": 7,
   "metadata": {},
   "outputs": [
    {
     "data": {
      "application/vnd.jupyter.widget-view+json": {
       "model_id": "1828835687be4c14943a00b78682f6d1",
       "version_major": 2,
       "version_minor": 0
      },
      "text/html": [
       "<p>Failed to display Jupyter Widget of type <code>interactive</code>.</p>\n",
       "<p>\n",
       "  If you're reading this message in the Jupyter Notebook or JupyterLab Notebook, it may mean\n",
       "  that the widgets JavaScript is still loading. If this message persists, it\n",
       "  likely means that the widgets JavaScript library is either not installed or\n",
       "  not enabled. See the <a href=\"https://ipywidgets.readthedocs.io/en/stable/user_install.html\">Jupyter\n",
       "  Widgets Documentation</a> for setup instructions.\n",
       "</p>\n",
       "<p>\n",
       "  If you're reading this message in another frontend (for example, a static\n",
       "  rendering on GitHub or <a href=\"https://nbviewer.jupyter.org/\">NBViewer</a>),\n",
       "  it may mean that your frontend doesn't currently support widgets.\n",
       "</p>\n"
      ],
      "text/plain": [
       "interactive(children=(RadioButtons(description='A.', options=('Choose an answer', 'ones', 'tens', 'hundreds', 'thousands', 'ten thousands', 'hundred thousands', 'millions'), value='Choose an answer'), Output()), _dom_classes=('widget-interact',))"
      ]
     },
     "metadata": {},
     "output_type": "display_data"
    }
   ],
   "source": [
    "a = widgets.RadioButtons(description='A.',options=['Choose an answer','ones','tens','hundreds', 'thousands', 'ten thousands', 'hundred thousands', 'millions'], disabled=False)\n",
    "def f(a=''):\n",
    "    if a == 'Choose an answer':\n",
    "        pass\n",
    "    elif a == 'millions':\n",
    "        print(\"That's right, excellent work. The value in the \" + a + \" place increased.\")\n",
    "    else:\n",
    "        print(\"Sorry, there's a larger place value that increased.\")\n",
    "    return a\n",
    "display(widgets.interactive(f, a=a))"
   ]
  },
  {
   "cell_type": "markdown",
   "metadata": {},
   "source": [
    "## Place Values Less Than 1\n",
    "We also name place values less than one (to the right of the decimal). The names follow the same pattern as before, but in reverse.\n",
    "\n",
    "| Millions | Hundred Thousands | Ten Thousands | Thousands | Hundreds | Tens | Ones | . | Tenths | Hundredths | Thousandths | Ten Thousandths | Hundred Thousandths |\n",
    "|:--------:|:-----------------:|:-------------:|:---------:|:--------:|:----:|:----:|:-:|:------:|:----------:|:-----------:|:---------------:|:-------------------:|\n",
    "|     2    |         3         |       4       |     5     |     6    |   7  |   8  | . |    9   |      8     |      7      |        6        |          5          |\n",
    "\n",
    "In the number 2 345 678.987 65 there is a 9 in the tenths place."
   ]
  },
  {
   "cell_type": "markdown",
   "metadata": {},
   "source": [
    "## Practice Question 6\n",
    "In the number 1.587 26, which digit is in the thousandths place?"
   ]
  },
  {
   "cell_type": "code",
   "execution_count": 8,
   "metadata": {},
   "outputs": [
    {
     "data": {
      "application/vnd.jupyter.widget-view+json": {
       "model_id": "bca16da5effb4ce1a697b95bf727f8a3",
       "version_major": 2,
       "version_minor": 0
      },
      "text/html": [
       "<p>Failed to display Jupyter Widget of type <code>interactive</code>.</p>\n",
       "<p>\n",
       "  If you're reading this message in the Jupyter Notebook or JupyterLab Notebook, it may mean\n",
       "  that the widgets JavaScript is still loading. If this message persists, it\n",
       "  likely means that the widgets JavaScript library is either not installed or\n",
       "  not enabled. See the <a href=\"https://ipywidgets.readthedocs.io/en/stable/user_install.html\">Jupyter\n",
       "  Widgets Documentation</a> for setup instructions.\n",
       "</p>\n",
       "<p>\n",
       "  If you're reading this message in another frontend (for example, a static\n",
       "  rendering on GitHub or <a href=\"https://nbviewer.jupyter.org/\">NBViewer</a>),\n",
       "  it may mean that your frontend doesn't currently support widgets.\n",
       "</p>\n"
      ],
      "text/plain": [
       "interactive(children=(RadioButtons(description='A.', options=('Choose an answer', '1', '5', '8', '7', '2', '6'), value='Choose an answer'), Output()), _dom_classes=('widget-interact',))"
      ]
     },
     "metadata": {},
     "output_type": "display_data"
    }
   ],
   "source": [
    "a = widgets.RadioButtons(description='A.',options=['Choose an answer','1','5','8','7', '2', '6'], disabled=False)\n",
    "def f(a=''):\n",
    "    if a == 'Choose an answer':\n",
    "        pass\n",
    "    elif a == '7':\n",
    "        print(\"That's right, excellent work. The \" + str(a) + \" is in the thousandths place.\")\n",
    "    else:\n",
    "        print(\"Sorry, try again\")\n",
    "    return a\n",
    "display(widgets.interactive(f, a=a))"
   ]
  },
  {
   "cell_type": "markdown",
   "metadata": {},
   "source": [
    "## Practice Question 7\n",
    "In the number 1.587 26, which place value has a 2?"
   ]
  },
  {
   "cell_type": "code",
   "execution_count": 9,
   "metadata": {},
   "outputs": [
    {
     "data": {
      "application/vnd.jupyter.widget-view+json": {
       "model_id": "222d39055ccf495d9ff8ba09b3999371",
       "version_major": 2,
       "version_minor": 0
      },
      "text/html": [
       "<p>Failed to display Jupyter Widget of type <code>interactive</code>.</p>\n",
       "<p>\n",
       "  If you're reading this message in the Jupyter Notebook or JupyterLab Notebook, it may mean\n",
       "  that the widgets JavaScript is still loading. If this message persists, it\n",
       "  likely means that the widgets JavaScript library is either not installed or\n",
       "  not enabled. See the <a href=\"https://ipywidgets.readthedocs.io/en/stable/user_install.html\">Jupyter\n",
       "  Widgets Documentation</a> for setup instructions.\n",
       "</p>\n",
       "<p>\n",
       "  If you're reading this message in another frontend (for example, a static\n",
       "  rendering on GitHub or <a href=\"https://nbviewer.jupyter.org/\">NBViewer</a>),\n",
       "  it may mean that your frontend doesn't currently support widgets.\n",
       "</p>\n"
      ],
      "text/plain": [
       "interactive(children=(RadioButtons(description='A.', options=('Choose an answer', 'ones', 'tenths', 'hundredths', 'thousandths', 'ten thousandths', 'hundred thousandths', 'millionths'), value='Choose an answer'), Output()), _dom_classes=('widget-interact',))"
      ]
     },
     "metadata": {},
     "output_type": "display_data"
    }
   ],
   "source": [
    "a = widgets.RadioButtons(description='A.',options=['Choose an answer','ones','tenths','hundredths', 'thousandths', 'ten thousandths', 'hundred thousandths', 'millionths'], disabled=False)\n",
    "def f(a=''):\n",
    "    if a == 'Choose an answer':\n",
    "        pass\n",
    "    elif a == 'ten thousandths':\n",
    "        print(\"That's right, excellent work.\")\n",
    "    else:\n",
    "        print(\"Sorry, try again.\")\n",
    "    return a\n",
    "display(widgets.interactive(f, a=a))"
   ]
  },
  {
   "cell_type": "markdown",
   "metadata": {},
   "source": [
    "In this lesson, we learned about large and small numbers and place value. As well, we learned about standard form and expanded form of numbers."
   ]
  }
 ],
 "metadata": {
  "kernelspec": {
   "display_name": "Python 3",
   "language": "python",
   "name": "python3"
  },
  "language_info": {
   "codemirror_mode": {
    "name": "ipython",
    "version": 3
   },
   "file_extension": ".py",
   "mimetype": "text/x-python",
   "name": "python",
   "nbconvert_exporter": "python",
   "pygments_lexer": "ipython3",
   "version": "3.6.5"
  }
 },
 "nbformat": 4,
 "nbformat_minor": 2
}
