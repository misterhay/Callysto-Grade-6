{
 "cells": [
  {
   "cell_type": "markdown",
   "metadata": {},
   "source": [
    "![logo](https://callysto.ca/wp-content/uploads/2018/06/Callysto_Notebook-Banner_Top_06.06.18.jpg)"
   ]
  },
  {
   "cell_type": "markdown",
   "metadata": {},
   "source": [
    "# Fractions\n",
    "**Fractions** are numbers that are not whole numbers (e.g. 3/4 which is three quarters). The **numerator** is the top number, and the **denominator** is the bottom number.\n",
    "\n",
    "**Improper fractions** have a numerator that is larger than the denominator (e.g. 5/2 five halves).\n",
    "\n",
    "**Mixed numbers** have an integer and a proper fraction (e.g. 2 1/2 which is two and one half).\n",
    "\n",
    "When typing fractions, you can use a slash (as we did above) or use LaTeX formating here in Jupyter, for example $\\frac{3}{4}$. To type fractions in LaTeX (within a Markdown cell), use the code \\frac{numerator}{denominator} with a dollar sign before and after it.\n",
    "\n",
    "We can also do calculations with fractions in Python, using the fraction library."
   ]
  },
  {
   "cell_type": "code",
   "execution_count": 1,
   "metadata": {},
   "outputs": [
    {
     "data": {
      "text/plain": [
       "Fraction(3, 4)"
      ]
     },
     "execution_count": 1,
     "metadata": {},
     "output_type": "execute_result"
    }
   ],
   "source": [
    "from fractions import Fraction\n",
    "Fraction(3, 4)"
   ]
  },
  {
   "cell_type": "markdown",
   "metadata": {},
   "source": [
    "This allows us to do math with fractions, like adding them."
   ]
  },
  {
   "cell_type": "code",
   "execution_count": 2,
   "metadata": {},
   "outputs": [
    {
     "data": {
      "text/plain": [
       "Fraction(5, 4)"
      ]
     },
     "execution_count": 2,
     "metadata": {},
     "output_type": "execute_result"
    }
   ],
   "source": [
    "Fraction(3, 4) + Fraction(2, 4)"
   ]
  },
  {
   "cell_type": "markdown",
   "metadata": {},
   "source": [
    "We also have functions to check what the numerator or denominator is."
   ]
  },
  {
   "cell_type": "code",
   "execution_count": 12,
   "metadata": {},
   "outputs": [
    {
     "name": "stdout",
     "output_type": "stream",
     "text": [
      "The numerator is 3\n",
      "and the denominator is 4\n"
     ]
    }
   ],
   "source": [
    "number = Fraction(3, 4)\n",
    "print('The numerator is', number.numerator)\n",
    "print('and the denominator is', number.denominator)"
   ]
  },
  {
   "cell_type": "markdown",
   "metadata": {},
   "source": [
    "## Converting Improper Fractions to Mixed Numbers\n",
    "Let's write some code to convert an improper fraction to a mixed number. There are three steps:\n",
    "1. Divide the numerator by the denominator (figure out how many times the denominator fits into the numerator)\n",
    "2. The remainder after that division becomes the numerator of the new fraction.\n",
    "3. Write the whole number followed by the new fraction."
   ]
  },
  {
   "cell_type": "code",
   "execution_count": 15,
   "metadata": {},
   "outputs": [
    {
     "name": "stdout",
     "output_type": "stream",
     "text": [
      "5/2 as a mixed number is 2 1/2\n"
     ]
    }
   ],
   "source": [
    "number = Fraction(5, 2)\n",
    "\n",
    "whole = number.numerator // number.denominator      # the // means floor division: integer answer without remainder or decimal\n",
    "\n",
    "remainder = number.numerator % number.denominator   # the % gives just the remainder after division\n",
    "newFraction = Fraction(remainder, number.denominator)\n",
    "\n",
    "print(number, 'as a mixed number is', whole, newFraction)"
   ]
  },
  {
   "cell_type": "markdown",
   "metadata": {},
   "source": [
    "Now for some code you can use for checking your work as you convert improper fractions to mixed numbers."
   ]
  },
  {
   "cell_type": "code",
   "execution_count": 18,
   "metadata": {},
   "outputs": [
    {
     "name": "stdout",
     "output_type": "stream",
     "text": [
      "Numerator: 1\n",
      "Denominator: 5\n",
      "1/5 as a mixed number is 0 1/5\n"
     ]
    }
   ],
   "source": [
    "numerator = int(input('Numerator: '))\n",
    "denominator = int(input('Denominator: '))\n",
    "number = Fraction(numerator, denominator)\n",
    "whole = numerator // denominator\n",
    "remainder = numerator % denominator\n",
    "newFraction = Fraction(remainder, denominator)\n",
    "print(number, 'as a mixed number is', whole, newFraction)"
   ]
  },
  {
   "cell_type": "markdown",
   "metadata": {},
   "source": [
    "## Converting Mixed Numbers to Improper Fractions\n",
    "To convert a mixed number to an improper fraction you need to:\n",
    "1. Muliply the whole number by the denominator.\n",
    "2. Add that to the numerator.\n",
    "\n",
    "e.g. $5 \\frac{3}{4} = \\frac{20}{4} + \\frac{3}{4} = \\frac{23}{4}$"
   ]
  },
  {
   "cell_type": "code",
   "execution_count": 24,
   "metadata": {},
   "outputs": [
    {
     "name": "stdout",
     "output_type": "stream",
     "text": [
      "The whole number: 4\n",
      "Numerator: 3\n",
      "Denominator: 4\n",
      "4 times 4 is 16 and adding 3 to that gives us 19/4\n"
     ]
    }
   ],
   "source": [
    "whole = int(input('The whole number: '))\n",
    "numerator = int(input('Numerator: '))\n",
    "denominator = int(input('Denominator: '))\n",
    "\n",
    "x = whole * denominator\n",
    "\n",
    "newNumerator = x + numerator\n",
    "\n",
    "newFraction = Fraction(newNumerator, denominator)\n",
    "print(whole, 'times', denominator, 'is', x, 'and adding', numerator, 'to that gives us', newFraction)"
   ]
  },
  {
   "cell_type": "markdown",
   "metadata": {},
   "source": [
    "As always, feel free to use this to check your answers. And you can always edit the code if you'd like."
   ]
  },
  {
   "cell_type": "markdown",
   "metadata": {},
   "source": [
    "## Comparing Fractions\n",
    "How about some code to put fractions on a number line so we can compare them."
   ]
  },
  {
   "cell_type": "code",
   "execution_count": 102,
   "metadata": {},
   "outputs": [
    {
     "data": {
      "image/png": "[encoded data removed]",
      "text/plain": [
       "<matplotlib.figure.Figure at 0x7f4944f146a0>"
      ]
     },
     "metadata": {},
     "output_type": "display_data"
    }
   ],
   "source": [
    "from fractions import Fraction\n",
    "\n",
    "import matplotlib\n",
    "import matplotlib.pyplot as plt\n",
    "%matplotlib inline\n",
    "\n",
    "fraction1 = Fraction(1, 5)\n",
    "fraction2 = Fraction(1, 4)\n",
    "fraction3 = Fraction(1, 3)\n",
    "\n",
    "fractionList = [fraction1, fraction2, fraction3]\n",
    "\n",
    "f, ax = plt.subplots()\n",
    "for frac in fractionList:\n",
    "    ax.scatter(frac,0)\n",
    "    ax.annotate(frac, xy=(frac,0.001), fontsize=12)\n",
    "ax.set_axis_off()\n",
    "ax.hlines(0, min(fractionList), max(fractionList))\n",
    "plt.show()"
   ]
  }
 ],
 "metadata": {
  "kernelspec": {
   "display_name": "Python 3",
   "language": "python",
   "name": "python3"
  },
  "language_info": {
   "codemirror_mode": {
    "name": "ipython",
    "version": 3
   },
   "file_extension": ".py",
   "mimetype": "text/x-python",
   "name": "python",
   "nbconvert_exporter": "python",
   "pygments_lexer": "ipython3",
   "version": "3.6.5"
  }
 },
 "nbformat": 4,
 "nbformat_minor": 2
}
